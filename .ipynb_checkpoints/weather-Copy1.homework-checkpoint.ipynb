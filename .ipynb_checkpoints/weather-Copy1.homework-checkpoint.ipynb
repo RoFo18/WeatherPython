{
 "cells": [
  {
   "cell_type": "code",
   "execution_count": 1,
   "metadata": {},
   "outputs": [],
   "source": [
    "# Dependencies\n",
    "import json\n",
    "import requests\n",
    "import csv\n",
    "import matplotlib.pyplot as plt\n",
    "import requests\n",
    "import pandas as pd\n",
    "import openweathermapy.core as owm"
   ]
  },
  {
   "cell_type": "code",
   "execution_count": 3,
   "metadata": {},
   "outputs": [],
   "source": [
    "# Save config information -- pulling from an api key for Open Weather Map\n",
    "\n",
    "url = \"http://api.openweathermap.org/data/2.5/weather?\"\n",
    "city = \"Paris\"\n",
    "units = \"metric\"\n",
    "\n",
    "#where do we see this in the documentation?\n",
    "\n",
    "api_key = \"c22a9ca464bdedf3a3d44bce78dff026\"\n",
    "#api_key = \"77c6146d9ee3d5ed906edb3f0011f6b0\"\n",
    "# We can build a query URL like this, too: \n",
    "#query_url = url + \"appid=\" + api_key + \"&q=\" + city\n",
    "settings = {\"units\": \"metric\", \"appid\": api_key}\n",
    "#order you pass in doesn't matter\n",
    "query_url = f\"{url}appid={api_key}&q={city}&units={units}\"\n",
    "\n",
    "csv_path = pd.read_csv(\"/Users/RoFo/Dropbox/Data_Science_BC/GitHub/Git_Real_Repo/WeatherPython/citipy-0.0.5/citipy/worldcities.csv\")"
   ]
  },
  {
   "cell_type": "code",
   "execution_count": 6,
   "metadata": {},
   "outputs": [
    {
     "name": "stdout",
     "output_type": "stream",
     "text": [
      "Current weather object for Paris: {'coord': {'lon': 2.35, 'lat': 48.86}, 'weather': [{'id': 800, 'main': 'Clear', 'description': 'clear sky', 'icon': '01n'}], 'base': 'stations', 'main': {'temp': 11.12, 'pressure': 1000, 'humidity': 76, 'temp_min': 10, 'temp_max': 12}, 'visibility': 10000, 'wind': {'speed': 2.6, 'deg': 190}, 'clouds': {'all': 0}, 'dt': 1522717200, 'sys': {'type': 1, 'id': 5610, 'message': 0.0053, 'country': 'FR', 'sunrise': 1522733062, 'sunset': 1522779858}, 'id': 2988507, 'name': 'Paris', 'cod': 200}.\n"
     ]
    }
   ],
   "source": [
    "# Get current weather\n",
    "current_weather_paris = owm.get_current(\"Paris\", **settings)\n",
    "print(f\"Current weather object for Paris: {current_weather_paris}.\")"
   ]
  },
  {
   "cell_type": "code",
   "execution_count": 7,
   "metadata": {},
   "outputs": [
    {
     "data": {
      "text/plain": [
       "{'base': 'stations',\n",
       " 'clouds': {'all': 0},\n",
       " 'cod': 200,\n",
       " 'coord': {'lat': 48.86, 'lon': 2.35},\n",
       " 'dt': 1522717200,\n",
       " 'id': 2988507,\n",
       " 'main': {'humidity': 76,\n",
       "  'pressure': 1000,\n",
       "  'temp': 11.12,\n",
       "  'temp_max': 12,\n",
       "  'temp_min': 10},\n",
       " 'name': 'Paris',\n",
       " 'sys': {'country': 'FR',\n",
       "  'id': 5610,\n",
       "  'message': 0.0053,\n",
       "  'sunrise': 1522733062,\n",
       "  'sunset': 1522779858,\n",
       "  'type': 1},\n",
       " 'visibility': 10000,\n",
       " 'weather': [{'description': 'clear sky',\n",
       "   'icon': '01n',\n",
       "   'id': 800,\n",
       "   'main': 'Clear'}],\n",
       " 'wind': {'deg': 190, 'speed': 2.6}}"
      ]
     },
     "execution_count": 7,
     "metadata": {},
     "output_type": "execute_result"
    }
   ],
   "source": [
    "# a cleaner way to see it\n",
    "current_weather_paris"
   ]
  },
  {
   "cell_type": "code",
   "execution_count": 8,
   "metadata": {},
   "outputs": [
    {
     "name": "stdout",
     "output_type": "stream",
     "text": [
      "The humidity information received is: [76, 76, 76]\n",
      "The cloudiness information received is: [0, 0, 0]\n",
      "The latitude information received is: [48.86, 48.86, 48.86]\n",
      "The temperature information received is: [284.27, 284.27, 284.27]\n",
      "The wind speed information received is: [2.6, 2.6, 2.6]\n"
     ]
    }
   ],
   "source": [
    "# How do you pick out a subset of the csv files and swap it with \"city\"?\n",
    "# How do you query just one aspect of the csv files?  #should it be by city or by lat/lon?\n",
    "\n",
    "# set up lists to hold reponse info | other examples of this\n",
    "\n",
    "lat = []\n",
    "temp = []\n",
    "humidity = []\n",
    "clouds = []\n",
    "wind_speed = []\n",
    "\n",
    "cities = [\"Oslo\", \"Paris\", \"London\"]\n",
    "\n",
    "# Loop through the list of cities and perform a request for data on each\n",
    "# what is json doing for us here?\n",
    "# How do I get the response to pull up data?\n",
    "# How do I convert my units?\n",
    "\n",
    "for city in cities:\n",
    "    response = requests.get(query_url + city).json()\n",
    "    lat.append(response['coord']['lat'])\n",
    "    clouds.append(response['clouds']['all'])\n",
    "    temp.append(response['main']['temp'])\n",
    "    wind_speed.append(response['wind']['speed'])\n",
    "    humidity.append(response['main']['humidity'])    \n",
    "    \n",
    "    \n",
    "# the variable you print below references the word just before \".append\"     \n",
    "print(f\"The humidity information received is: {humidity}\")\n",
    "print(f\"The cloudiness information received is: {clouds}\")\n",
    "print(f\"The latitude information received is: {lat}\")\n",
    "print(f\"The temperature information received is: {temp}\")\n",
    "print(f\"The wind speed information received is: {wind_speed}\")"
   ]
  },
  {
   "cell_type": "code",
   "execution_count": null,
   "metadata": {},
   "outputs": [],
   "source": [
    "# create a data frame from cities, humidity, cloudiness, wind speed, lat, and temp\n",
    "weather_dict = {\n",
    "    \"city\": city,\n",
    "    \"lat\": lat,\n",
    "    \"humidity\": humidity,\n",
    " #\"cloudy\": cloudy,\n",
    "    \"temp\": temp,\n",
    "   # \"wind\": speed\n",
    "}\n",
    "weather_data = pd.DataFrame(weather_dict)\n",
    "weather_data.head()"
   ]
  },
  {
   "cell_type": "code",
   "execution_count": null,
   "metadata": {},
   "outputs": [],
   "source": [
    "#Temperature (F) vs. Latitude\n",
    "\n",
    "plt.scatter(weather_data[\"lat\"], weather_data[\"temp\"], marker=\"o\")\n",
    "\n",
    "# Incorporate the other graph properties\n",
    "plt.title(\"Temperature in World Cities\")\n",
    "plt.ylabel(\"Temperature (Celsius)\")\n",
    "plt.xlabel(\"Latitude\")\n",
    "plt.grid(True)\n",
    "\n",
    "# Save the figure\n",
    "plt.savefig(\"TemperatureInWorldCities.png\")\n",
    "\n",
    "# Show plot\n",
    "plt.show()"
   ]
  },
  {
   "cell_type": "code",
   "execution_count": null,
   "metadata": {},
   "outputs": [],
   "source": [
    "# Humidity (%) vs. Latitude"
   ]
  },
  {
   "cell_type": "code",
   "execution_count": null,
   "metadata": {},
   "outputs": [],
   "source": [
    "# Cloudiness (%) vs. Latitude"
   ]
  },
  {
   "cell_type": "code",
   "execution_count": null,
   "metadata": {},
   "outputs": [],
   "source": [
    "# Wind Speed (mph) vs. Latitude"
   ]
  },
  {
   "cell_type": "code",
   "execution_count": null,
   "metadata": {},
   "outputs": [],
   "source": [
    "#Randomly select at least 500 unique (non-repeat) cities based on latitude and longitude.\n",
    "#Perform a weather check on each of the cities using a series of successive API calls.\n",
    "#Include a print log of each city as it's being processed with the city number, city name, and requested URL.\n",
    "#Save both a CSV of all data retrieved and png images for each scatter plot."
   ]
  }
 ],
 "metadata": {
  "kernelspec": {
   "display_name": "Python 3",
   "language": "python",
   "name": "python3"
  },
  "language_info": {
   "codemirror_mode": {
    "name": "ipython",
    "version": 3
   },
   "file_extension": ".py",
   "mimetype": "text/x-python",
   "name": "python",
   "nbconvert_exporter": "python",
   "pygments_lexer": "ipython3",
   "version": "3.6.4"
  },
  "varInspector": {
   "cols": {
    "lenName": 16,
    "lenType": 16,
    "lenVar": 40
   },
   "kernels_config": {
    "python": {
     "delete_cmd_postfix": "",
     "delete_cmd_prefix": "del ",
     "library": "var_list.py",
     "varRefreshCmd": "print(var_dic_list())"
    },
    "r": {
     "delete_cmd_postfix": ") ",
     "delete_cmd_prefix": "rm(",
     "library": "var_list.r",
     "varRefreshCmd": "cat(var_dic_list()) "
    }
   },
   "types_to_exclude": [
    "module",
    "function",
    "builtin_function_or_method",
    "instance",
    "_Feature"
   ],
   "window_display": false
  }
 },
 "nbformat": 4,
 "nbformat_minor": 2
}
