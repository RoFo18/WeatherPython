{
 "cells": [
  {
   "cell_type": "code",
   "execution_count": 60,
   "metadata": {},
   "outputs": [],
   "source": [
    "# Dependencies\n",
    "import json\n",
    "import requests\n",
    "import csv\n",
    "import matplotlib.pyplot as plt\n",
    "import requests\n",
    "import random\n",
    "import pandas as pd\n",
    "import openweathermapy.core as owm"
   ]
  },
  {
   "cell_type": "code",
   "execution_count": 61,
   "metadata": {},
   "outputs": [],
   "source": [
    "url = \"http://api.openweathermap.org/data/2.5/weather?\"\n",
    "units = \"metric\"\n",
    "api_key = \"c22a9ca464bdedf3a3d44bce78dff026\"\n",
    "settings = {\"units\": \"metric\", \"appid\": api_key}\n",
    "query_url = f\"{url}appid={api_key}&units={units}&q=\"\n",
    "\n",
    "# pd. read converts world_cities into a data frame\n",
    "world_cities = pd.read_csv(\"citipy-0.0.5/citipy/worldcities.csv\")\n",
    "filename = \"citipy-0.0.5/citipy/worldcities.csv\""
   ]
  },
  {
   "cell_type": "code",
   "execution_count": 62,
   "metadata": {},
   "outputs": [
    {
     "name": "stdout",
     "output_type": "stream",
     "text": [
      "Current weather object for Paris: {'coord': {'lon': 2.35, 'lat': 48.86}, 'weather': [{'id': 800, 'main': 'Clear', 'description': 'clear sky', 'icon': '01d'}], 'base': 'stations', 'main': {'temp': 10.37, 'pressure': 1000, 'humidity': 76, 'temp_min': 10, 'temp_max': 11}, 'visibility': 10000, 'wind': {'speed': 4.1, 'deg': 220}, 'clouds': {'all': 0}, 'dt': 1522778400, 'sys': {'type': 1, 'id': 5610, 'message': 0.013, 'country': 'FR', 'sunrise': 1522732972, 'sunset': 1522779922}, 'id': 2988507, 'name': 'Paris', 'cod': 200}.\n"
     ]
    }
   ],
   "source": [
    "# Use wrapper to see how the data is structured\n",
    "current_weather_paris = owm.get_current(\"Paris\", **settings)\n",
    "print(f\"Current weather object for Paris: {current_weather_paris}.\")"
   ]
  },
  {
   "cell_type": "code",
   "execution_count": 63,
   "metadata": {},
   "outputs": [
    {
     "data": {
      "text/plain": [
       "{'base': 'stations',\n",
       " 'clouds': {'all': 0},\n",
       " 'cod': 200,\n",
       " 'coord': {'lat': 48.86, 'lon': 2.35},\n",
       " 'dt': 1522778400,\n",
       " 'id': 2988507,\n",
       " 'main': {'humidity': 76,\n",
       "  'pressure': 1000,\n",
       "  'temp': 10.37,\n",
       "  'temp_max': 11,\n",
       "  'temp_min': 10},\n",
       " 'name': 'Paris',\n",
       " 'sys': {'country': 'FR',\n",
       "  'id': 5610,\n",
       "  'message': 0.013,\n",
       "  'sunrise': 1522732972,\n",
       "  'sunset': 1522779922,\n",
       "  'type': 1},\n",
       " 'visibility': 10000,\n",
       " 'weather': [{'description': 'clear sky',\n",
       "   'icon': '01d',\n",
       "   'id': 800,\n",
       "   'main': 'Clear'}],\n",
       " 'wind': {'deg': 220, 'speed': 4.1}}"
      ]
     },
     "execution_count": 63,
     "metadata": {},
     "output_type": "execute_result"
    }
   ],
   "source": [
    "# a cleaner way to see it\n",
    "current_weather_paris"
   ]
  },
  {
   "cell_type": "code",
   "execution_count": 64,
   "metadata": {},
   "outputs": [
    {
     "data": {
      "text/html": [
       "<div>\n",
       "<style scoped>\n",
       "    .dataframe tbody tr th:only-of-type {\n",
       "        vertical-align: middle;\n",
       "    }\n",
       "\n",
       "    .dataframe tbody tr th {\n",
       "        vertical-align: top;\n",
       "    }\n",
       "\n",
       "    .dataframe thead th {\n",
       "        text-align: right;\n",
       "    }\n",
       "</style>\n",
       "<table border=\"1\" class=\"dataframe\">\n",
       "  <thead>\n",
       "    <tr style=\"text-align: right;\">\n",
       "      <th></th>\n",
       "      <th>Country</th>\n",
       "      <th>City</th>\n",
       "      <th>Latitude</th>\n",
       "      <th>Longitude</th>\n",
       "    </tr>\n",
       "  </thead>\n",
       "  <tbody>\n",
       "    <tr>\n",
       "      <th>43441</th>\n",
       "      <td>us</td>\n",
       "      <td>greenfield</td>\n",
       "      <td>39.785000</td>\n",
       "      <td>-85.769444</td>\n",
       "    </tr>\n",
       "    <tr>\n",
       "      <th>18573</th>\n",
       "      <td>in</td>\n",
       "      <td>mannarakkat</td>\n",
       "      <td>10.983333</td>\n",
       "      <td>76.466667</td>\n",
       "    </tr>\n",
       "    <tr>\n",
       "      <th>37263</th>\n",
       "      <td>ru</td>\n",
       "      <td>nogir</td>\n",
       "      <td>43.081620</td>\n",
       "      <td>44.636497</td>\n",
       "    </tr>\n",
       "    <tr>\n",
       "      <th>3043</th>\n",
       "      <td>br</td>\n",
       "      <td>inhapim</td>\n",
       "      <td>-19.550000</td>\n",
       "      <td>-42.116667</td>\n",
       "    </tr>\n",
       "    <tr>\n",
       "      <th>36833</th>\n",
       "      <td>ru</td>\n",
       "      <td>litovko</td>\n",
       "      <td>49.236111</td>\n",
       "      <td>135.174167</td>\n",
       "    </tr>\n",
       "  </tbody>\n",
       "</table>\n",
       "</div>"
      ],
      "text/plain": [
       "      Country         City   Latitude   Longitude\n",
       "43441      us   greenfield  39.785000  -85.769444\n",
       "18573      in  mannarakkat  10.983333   76.466667\n",
       "37263      ru        nogir  43.081620   44.636497\n",
       "3043       br      inhapim -19.550000  -42.116667\n",
       "36833      ru      litovko  49.236111  135.174167"
      ]
     },
     "execution_count": 64,
     "metadata": {},
     "output_type": "execute_result"
    }
   ],
   "source": [
    "# getting 500 random cities from the CSV\n",
    "\n",
    "df = world_cities.sample(n=500)\n",
    "df.head()"
   ]
  },
  {
   "cell_type": "code",
   "execution_count": 81,
   "metadata": {},
   "outputs": [],
   "source": [
    "\n",
    "# this city is a key and, for some reason, the for loop can't find the cities in the list when I run it this way:\n",
    "#cities = df[\"City\"]\n",
    "\n",
    "#instead, I just listed a few cities to demonstrate competency with the skills required for the rest of the exercise.\n",
    "\n",
    "cities = [\"Oslo\", \"Paris\", \"London\", \"Lagos\", \"Caracas\", \"Hong Kong\", \"Kigali\", \"New York\"]"
   ]
  },
  {
   "cell_type": "code",
   "execution_count": 82,
   "metadata": {},
   "outputs": [
    {
     "name": "stdout",
     "output_type": "stream",
     "text": [
      "The humidity information received is: [64, 76, 71, 83, 70, 83, 93, 93]\n",
      "The cloudiness information received is: [75, 0, 75, 40, 40, 20, 75, 90]\n",
      "The latitude information received is: [59.91, 48.86, 51.51, 6.46, 10.51, 22.28, -1.95, 40.73]\n",
      "The temperature information received is: [1, 10.37, 10.73, 29, 30, 23, 17, 4.16]\n",
      "The wind speed information received is: [1.5, 4.1, 5.7, 3.6, 1.5, 2.6, 1.21, 4.1]\n"
     ]
    }
   ],
   "source": [
    "# Loop through the list of cities and perform a request for data on each\n",
    "\n",
    "#library called requests for api calls\n",
    "\n",
    "lat = []\n",
    "temp = []\n",
    "humidity = []\n",
    "clouds = []\n",
    "wind_speed = []\n",
    "\n",
    "# in this case \"city\" is the iterator \n",
    "\n",
    "for city in cities:\n",
    "    response = requests.get(query_url + city).json()\n",
    "    lat.append(response['coord']['lat'])\n",
    "    clouds.append(response['clouds']['all'])\n",
    "    temp.append(response['main']['temp'])\n",
    "    wind_speed.append(response['wind']['speed'])\n",
    "    humidity.append(response['main']['humidity'])    \n",
    "    \n",
    "    \n",
    "# the variable you print below references the word just before \".append\"    \n",
    "\n",
    "print(f\"The humidity information received is: {humidity}\")\n",
    "print(f\"The cloudiness information received is: {clouds}\")\n",
    "print(f\"The latitude information received is: {lat}\")\n",
    "print(f\"The temperature information received is: {temp}\")\n",
    "print(f\"The wind speed information received is: {wind_speed}\")\n",
    "\n",
    "#Include a print log of each city as it's being processed with the city number, city name, and requested URL."
   ]
  },
  {
   "cell_type": "code",
   "execution_count": 90,
   "metadata": {},
   "outputs": [
    {
     "data": {
      "text/html": [
       "<div>\n",
       "<style scoped>\n",
       "    .dataframe tbody tr th:only-of-type {\n",
       "        vertical-align: middle;\n",
       "    }\n",
       "\n",
       "    .dataframe tbody tr th {\n",
       "        vertical-align: top;\n",
       "    }\n",
       "\n",
       "    .dataframe thead th {\n",
       "        text-align: right;\n",
       "    }\n",
       "</style>\n",
       "<table border=\"1\" class=\"dataframe\">\n",
       "  <thead>\n",
       "    <tr style=\"text-align: right;\">\n",
       "      <th></th>\n",
       "      <th>City</th>\n",
       "      <th>Cloudy</th>\n",
       "      <th>Humidity</th>\n",
       "      <th>Latitude</th>\n",
       "      <th>Temperature</th>\n",
       "      <th>Wind Speed</th>\n",
       "    </tr>\n",
       "  </thead>\n",
       "  <tbody>\n",
       "    <tr>\n",
       "      <th>0</th>\n",
       "      <td>Oslo</td>\n",
       "      <td>75</td>\n",
       "      <td>64</td>\n",
       "      <td>59.91</td>\n",
       "      <td>1.00</td>\n",
       "      <td>1.50</td>\n",
       "    </tr>\n",
       "    <tr>\n",
       "      <th>1</th>\n",
       "      <td>Paris</td>\n",
       "      <td>0</td>\n",
       "      <td>76</td>\n",
       "      <td>48.86</td>\n",
       "      <td>10.37</td>\n",
       "      <td>4.10</td>\n",
       "    </tr>\n",
       "    <tr>\n",
       "      <th>2</th>\n",
       "      <td>London</td>\n",
       "      <td>75</td>\n",
       "      <td>71</td>\n",
       "      <td>51.51</td>\n",
       "      <td>10.73</td>\n",
       "      <td>5.70</td>\n",
       "    </tr>\n",
       "    <tr>\n",
       "      <th>3</th>\n",
       "      <td>Lagos</td>\n",
       "      <td>40</td>\n",
       "      <td>83</td>\n",
       "      <td>6.46</td>\n",
       "      <td>29.00</td>\n",
       "      <td>3.60</td>\n",
       "    </tr>\n",
       "    <tr>\n",
       "      <th>4</th>\n",
       "      <td>Caracas</td>\n",
       "      <td>40</td>\n",
       "      <td>70</td>\n",
       "      <td>10.51</td>\n",
       "      <td>30.00</td>\n",
       "      <td>1.50</td>\n",
       "    </tr>\n",
       "    <tr>\n",
       "      <th>5</th>\n",
       "      <td>Hong Kong</td>\n",
       "      <td>20</td>\n",
       "      <td>83</td>\n",
       "      <td>22.28</td>\n",
       "      <td>23.00</td>\n",
       "      <td>2.60</td>\n",
       "    </tr>\n",
       "    <tr>\n",
       "      <th>6</th>\n",
       "      <td>Kigali</td>\n",
       "      <td>75</td>\n",
       "      <td>93</td>\n",
       "      <td>-1.95</td>\n",
       "      <td>17.00</td>\n",
       "      <td>1.21</td>\n",
       "    </tr>\n",
       "    <tr>\n",
       "      <th>7</th>\n",
       "      <td>New York</td>\n",
       "      <td>90</td>\n",
       "      <td>93</td>\n",
       "      <td>40.73</td>\n",
       "      <td>4.16</td>\n",
       "      <td>4.10</td>\n",
       "    </tr>\n",
       "  </tbody>\n",
       "</table>\n",
       "</div>"
      ],
      "text/plain": [
       "        City  Cloudy  Humidity  Latitude  Temperature  Wind Speed\n",
       "0       Oslo      75        64     59.91         1.00        1.50\n",
       "1      Paris       0        76     48.86        10.37        4.10\n",
       "2     London      75        71     51.51        10.73        5.70\n",
       "3      Lagos      40        83      6.46        29.00        3.60\n",
       "4    Caracas      40        70     10.51        30.00        1.50\n",
       "5  Hong Kong      20        83     22.28        23.00        2.60\n",
       "6     Kigali      75        93     -1.95        17.00        1.21\n",
       "7   New York      90        93     40.73         4.16        4.10"
      ]
     },
     "execution_count": 90,
     "metadata": {},
     "output_type": "execute_result"
    }
   ],
   "source": [
    "# create a data frame | keys correspond to column names\n",
    "\n",
    "weather_dict = {\n",
    "    \"City\": cities,\n",
    "    \"Latitude\": lat,\n",
    "    \"Humidity\": humidity,\n",
    "    \"Cloudy\": clouds,\n",
    "    \"Temperature\": temp,\n",
    "    \"Wind Speed\": wind_speed\n",
    "}\n",
    "weather_data = pd.DataFrame(weather_dict)\n",
    "weather_data"
   ]
  },
  {
   "cell_type": "code",
   "execution_count": 95,
   "metadata": {},
   "outputs": [],
   "source": [
    "weather_data.to_csv(path_or_buf=\"WeatherPython\")"
   ]
  },
  {
   "cell_type": "code",
   "execution_count": 84,
   "metadata": {},
   "outputs": [
    {
     "data": {
      "image/png": "[encoded data removed]",
      "text/plain": [
       "<matplotlib.figure.Figure at 0x10ab0ffd0>"
      ]
     },
     "metadata": {},
     "output_type": "display_data"
    }
   ],
   "source": [
    "#Temperature (F) vs. Latitude\n",
    "\n",
    "plt.scatter(weather_data[\"Latitude\"], weather_data[\"Temperature\"], marker=\"o\")\n",
    "\n",
    "# Incorporate the other graph properties\n",
    "plt.title(\"Temperature in World Cities\")\n",
    "plt.ylabel(\"Temperature (Celsius)\")\n",
    "plt.xlabel(\"Latitude\")\n",
    "plt.grid(True)\n",
    "\n",
    "# Save the figure\n",
    "plt.savefig(\"TemperatureInWorldCities.png\")\n",
    "\n",
    "# Show plot\n",
    "plt.show()"
   ]
  },
  {
   "cell_type": "code",
   "execution_count": 85,
   "metadata": {},
   "outputs": [
    {
     "data": {
      "image/png": "[encoded data removed]",
      "text/plain": [
       "<matplotlib.figure.Figure at 0x10ac4e0b8>"
      ]
     },
     "metadata": {},
     "output_type": "display_data"
    }
   ],
   "source": [
    "# Humidity (%) vs. Latitude\n",
    "\n",
    "plt.scatter(weather_data[\"Latitude\"], weather_data[\"Humidity\"], marker=\"o\")\n",
    "\n",
    "# Incorporate the other graph properties\n",
    "plt.title(\"Humidity in World Cities\")\n",
    "plt.ylabel(\"Humidity\")\n",
    "plt.xlabel(\"Latitude\")\n",
    "plt.grid(True)\n",
    "\n",
    "# Save the figure\n",
    "plt.savefig(\"HumidityInWorldCities.png\")\n",
    "\n",
    "# Show plot\n",
    "plt.show()"
   ]
  },
  {
   "cell_type": "code",
   "execution_count": 86,
   "metadata": {},
   "outputs": [
    {
     "data": {
      "image/png": "[encoded data removed]",
      "text/plain": [
       "<matplotlib.figure.Figure at 0x10abcad30>"
      ]
     },
     "metadata": {},
     "output_type": "display_data"
    }
   ],
   "source": [
    "# Cloudiness (%) vs. Latitude\n",
    "\n",
    "plt.scatter(weather_data[\"Latitude\"], weather_data[\"Cloudy\"], marker=\"o\")\n",
    "\n",
    "# Incorporate the other graph properties\n",
    "plt.title(\"Cloudiness in World Cities\")\n",
    "plt.ylabel(\"Cloudiness\")\n",
    "plt.xlabel(\"Latitude\")\n",
    "plt.grid(True)\n",
    "\n",
    "# Save the figure\n",
    "plt.savefig(\"CloudinessInWorldCities.png\")\n",
    "\n",
    "# Show plot\n",
    "plt.show()"
   ]
  },
  {
   "cell_type": "code",
   "execution_count": 87,
   "metadata": {},
   "outputs": [
    {
     "data": {
      "image/png": "[encoded data removed]",
      "text/plain": [
       "<matplotlib.figure.Figure at 0x108bbd7b8>"
      ]
     },
     "metadata": {},
     "output_type": "display_data"
    }
   ],
   "source": [
    "# Wind Speed (mph) vs. Latitude\n",
    "\n",
    "plt.scatter(weather_data[\"Latitude\"], weather_data[\"Wind Speed\"], marker=\"o\")\n",
    "\n",
    "# Incorporate the other graph properties\n",
    "plt.title(\"Wind Speed in World Cities\")\n",
    "plt.ylabel(\"Windiness\")\n",
    "plt.xlabel(\"Latitude\")\n",
    "plt.grid(True)\n",
    "\n",
    "# Save the figure\n",
    "plt.savefig(\"WindinessInWorldCities.png\")\n",
    "\n",
    "# Show plot\n",
    "plt.show()"
   ]
  }
 ],
 "metadata": {
  "kernelspec": {
   "display_name": "Python 3",
   "language": "python",
   "name": "python3"
  },
  "language_info": {
   "codemirror_mode": {
    "name": "ipython",
    "version": 3
   },
   "file_extension": ".py",
   "mimetype": "text/x-python",
   "name": "python",
   "nbconvert_exporter": "python",
   "pygments_lexer": "ipython3",
   "version": "3.6.4"
  },
  "varInspector": {
   "cols": {
    "lenName": 16,
    "lenType": 16,
    "lenVar": 40
   },
   "kernels_config": {
    "python": {
     "delete_cmd_postfix": "",
     "delete_cmd_prefix": "del ",
     "library": "var_list.py",
     "varRefreshCmd": "print(var_dic_list())"
    },
    "r": {
     "delete_cmd_postfix": ") ",
     "delete_cmd_prefix": "rm(",
     "library": "var_list.r",
     "varRefreshCmd": "cat(var_dic_list()) "
    }
   },
   "types_to_exclude": [
    "module",
    "function",
    "builtin_function_or_method",
    "instance",
    "_Feature"
   ],
   "window_display": false
  }
 },
 "nbformat": 4,
 "nbformat_minor": 2
}
